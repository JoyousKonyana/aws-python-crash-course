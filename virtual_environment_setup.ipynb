{
 "cells": [
  {
   "cell_type": "markdown",
   "id": "8a1dad2e",
   "metadata": {},
   "source": [
    "# 🐍 Python Virtual Environment Setup\n",
    "\n",
    "This notebook will guide you step-by-step to create and manage a Python virtual environment using either `venv` or `virtualenv`."
   ]
  },
  {
   "cell_type": "markdown",
   "id": "59ab2fdd",
   "metadata": {},
   "source": [
    "## ✅ Step 1: Check if Python is Installed\n",
    "\n",
    "Run the following command in your terminal (not in a Jupyter cell):"
   ]
  },
  {
   "cell_type": "code",
   "execution_count": null,
   "id": "e4e6cafe",
   "metadata": {},
   "outputs": [],
   "source": [
    "python --version\n",
    "# or\n",
    "python3 --version"
   ]
  },
  {
   "cell_type": "markdown",
   "id": "30024df8",
   "metadata": {},
   "source": [
    "> If Python is not installed, download it from: [https://www.python.org/downloads/](https://www.python.org/downloads/)"
   ]
  },
  {
   "cell_type": "markdown",
   "id": "63089bf6",
   "metadata": {},
   "source": [
    "## ✅ Step 2: Install `virtualenv` (Optional but Recommended)\n",
    "\n",
    "This tool allows you to create virtual environments independent of the Python version."
   ]
  },
  {
   "cell_type": "code",
   "execution_count": null,
   "id": "ee5a9599",
   "metadata": {},
   "outputs": [],
   "source": [
    "pip install virtualenv"
   ]
  },
  {
   "cell_type": "markdown",
   "id": "24557b27",
   "metadata": {},
   "source": [
    "## ✅ Step 3: Create a Virtual Environment\n",
    "\n",
    "You can use either `venv` or `virtualenv` to create a new environment."
   ]
  },
  {
   "cell_type": "code",
   "execution_count": null,
   "id": "6cd05592",
   "metadata": {},
   "outputs": [],
   "source": [
    "# Using built-in venv\n",
    "python -m venv myenv\n",
    "\n",
    "# Or using virtualenv\n",
    "virtualenv myenv"
   ]
  },
  {
   "cell_type": "markdown",
   "id": "6a29b1b5",
   "metadata": {},
   "source": [
    "`myenv` is the name of the environment folder that will be created. You can name it anything."
   ]
  },
  {
   "cell_type": "markdown",
   "id": "65f90e0f",
   "metadata": {},
   "source": [
    "## ✅ Step 4: Activate the Virtual Environment\n",
    "\n",
    "Run the appropriate command based on your OS **in your terminal**."
   ]
  },
  {
   "cell_type": "markdown",
   "id": "ac475c9f",
   "metadata": {},
   "source": [
    "**Windows:**"
   ]
  },
  {
   "cell_type": "code",
   "execution_count": null,
   "id": "7ed0b419",
   "metadata": {},
   "outputs": [],
   "source": [
    "myenv\\Scripts\\activate"
   ]
  },
  {
   "cell_type": "markdown",
   "id": "0bb66ed3",
   "metadata": {},
   "source": [
    "**macOS / Linux:**"
   ]
  },
  {
   "cell_type": "code",
   "execution_count": null,
   "id": "f30db623",
   "metadata": {},
   "outputs": [],
   "source": [
    "source myenv/bin/activate"
   ]
  },
  {
   "cell_type": "markdown",
   "id": "96d3c013",
   "metadata": {},
   "source": [
    "Once activated, your terminal will show `(myenv)` before the prompt, indicating the environment is active."
   ]
  },
  {
   "cell_type": "markdown",
   "id": "2caf1329",
   "metadata": {},
   "source": [
    "## ✅ Step 5: Install Packages Inside the Environment\n",
    "\n",
    "Once activated, you can install any packages you need:"
   ]
  },
  {
   "cell_type": "code",
   "execution_count": null,
   "id": "aea2f1df",
   "metadata": {},
   "outputs": [],
   "source": [
    "pip install requests"
   ]
  },
  {
   "cell_type": "markdown",
   "id": "7211b408",
   "metadata": {},
   "source": [
    "## ✅ Step 6: Deactivate the Virtual Environment\n",
    "\n",
    "When you're done, simply deactivate it:"
   ]
  },
  {
   "cell_type": "code",
   "execution_count": null,
   "id": "5dbc79cd",
   "metadata": {},
   "outputs": [],
   "source": [
    "deactivate"
   ]
  },
  {
   "cell_type": "markdown",
   "id": "852b2b10",
   "metadata": {},
   "source": [
    "## ✅ Step 7: Freeze and Reinstall Environment Packages\n",
    "\n",
    "To export the environment's dependencies into a file:"
   ]
  },
  {
   "cell_type": "code",
   "execution_count": null,
   "id": "468670a6",
   "metadata": {},
   "outputs": [],
   "source": [
    "pip freeze > requirements.txt"
   ]
  },
  {
   "cell_type": "markdown",
   "id": "dd3628a5",
   "metadata": {},
   "source": [
    "Later, you or someone else can recreate the environment using:"
   ]
  },
  {
   "cell_type": "code",
   "execution_count": null,
   "id": "be704803",
   "metadata": {},
   "outputs": [],
   "source": [
    "pip install -r requirements.txt"
   ]
  }
 ],
 "metadata": {
  "kernelspec": {
   "display_name": "Python 3",
   "language": "python",
   "name": "python3"
  },
  "language_info": {
   "name": "python",
   "version": ""
  }
 },
 "nbformat": 4,
 "nbformat_minor": 5
}
