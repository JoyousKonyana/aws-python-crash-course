{
  "cells": [
    {
      "cell_type": "markdown",
      "metadata": {},
      "source": [
        "# Python Basics - Notebook 1\n",
        "\n",
        "**A comprehensive guide to Python fundamentals**\n",
        "\n",
        "This notebook covers the foundational concepts of Python programming including basic output, variables, operators, and data type conversion.\n",
        "\n",
        "---"
      ]
    },
    {
      "cell_type": "markdown",
      "metadata": {},
      "source": [
        "## Section 1: Hello World - Simple Hello World\n",
        "\n",
        "### Overview\n",
        "\n",
        "The \"Hello World\" program is traditionally the first program written when learning a new programming language. It's a simple program that displays the text \"Hello World\" on the screen. This concept introduces you to the basic syntax of outputting text in Python using the print() function. In real life, this is similar to how software applications display messages to users, such as welcome messages in mobile apps, status updates in web applications, or notifications in desktop software.\n",
        "\n",
        "### Code Example:"
      ]
    },
    {
      "cell_type": "code",
      "execution_count": null,
      "metadata": {},
      "outputs": [],
      "source": [
        "print(\"Hello World\")"
      ]
    },
    {
      "cell_type": "markdown",
      "metadata": {},
      "source": [
        "### Challenge 1.1 (Easy)\n",
        "\n",
        "The code above prints \"HelloWorld\" without a space. Modify the code to print \"Hello World\" with a space between \"Hello\" and \"World\"."
      ]
    },
    {
      "cell_type": "code",
      "execution_count": null,
      "metadata": {},
      "outputs": [],
      "source": [
        "# Challenge 1.1 Solution Space:\n",
        "# Your code here"
      ]
    },
    {
      "cell_type": "markdown",
      "metadata": {},
      "source": [
        "### Challenge 1.2 (Medium)\n",
        "\n",
        "Change \"World\" to your actual name so it prints \"Hello [YourName]\"."
      ]
    },
    {
      "cell_type": "code",
      "execution_count": null,
      "metadata": {},
      "outputs": [],
      "source": [
        "# Challenge 1.2 Solution Space:\n",
        "# Your code here"
      ]
    },
    {
      "cell_type": "markdown",
      "metadata": {},
      "source": [
        "### Challenge 1.3 (Hard)\n",
        "\n",
        "Create a program that asks the user for their name using input(), then greets them with \"Hello [username]\" where username is what they entered."
      ]
    },
    {
      "cell_type": "code",
      "execution_count": null,
      "metadata": {},
      "outputs": [],
      "source": [
        "# Challenge 1.3 Solution Space:\n",
        "# Your code here"
      ]
    },
    {
      "cell_type": "markdown",
      "metadata": {},
      "source": [
        "---\n",
        "\n",
        "## Section 2: Variables - Introduce Variables\n",
        "\n",
        "### Overview\n",
        "\n",
        "Variables are containers that store data values. Think of them as labeled boxes where you can put different types of information and retrieve them later. In real life, variables are like name tags at a conference - they help identify and reference specific pieces of information. For example, in a banking application, variables store account balances, customer names, and transaction amounts.\n",
        "\n",
        "### Code Example:"
      ]
    },
    {
      "cell_type": "code",
      "execution_count": null,
      "metadata": {},
      "outputs": [],
      "source": [
        "name = \"Alice\"\n",
        "age = 25\n",
        "height = 5.6\n",
        "is_student = True\n",
        "\n",
        "print(f\"Name: {name}\")\n",
        "print(f\"Age: {age}\")\n",
        "print(f\"Height: {height} feet\")\n",
        "print(f\"Is student: {is_student}\")"
      ]
    },
    {
      "cell_type": "markdown",
      "metadata": {},
      "source": [
        "### Challenge 2.1 (Easy)\n",
        "\n",
        "Create variables for your favorite color, favorite number, and whether you like pizza (True/False). Print all three variables."
      ]
    },
    {
      "cell_type": "code",
      "execution_count": null,
      "metadata": {},
      "outputs": [],
      "source": [
        "# Challenge 2.1 Solution Space:\n",
        "# Your code here"
      ]
    },
    {
      "cell_type": "markdown",
      "metadata": {},
      "source": [
        "### Challenge 2.2 (Medium)\n",
        "\n",
        "Create variables for the length and width of a rectangle, then calculate and store the area in a variable. Print the length, width, and area."
      ]
    },
    {
      "cell_type": "code",
      "execution_count": null,
      "metadata": {},
      "outputs": [],
      "source": [
        "# Challenge 2.2 Solution Space:\n",
        "# Your code here"
      ]
    },
    {
      "cell_type": "markdown",
      "metadata": {},
      "source": [
        "### Challenge 2.3 (Hard)\n",
        "\n",
        "Create a simple profile system: ask the user for their name, age, and city, store them in variables, then display a formatted profile message."
      ]
    },
    {
      "cell_type": "code",
      "execution_count": null,
      "metadata": {},
      "outputs": [],
      "source": [
        "# Challenge 2.3 Solution Space:\n",
        "# Your code here"
      ]
    },
    {
      "cell_type": "markdown",
      "metadata": {},
      "source": [
        "---\n",
        "\n",
        "## Section 3: Variable Assignment\n",
        "\n",
        "### Overview\n",
        "\n",
        "Variable assignment is the process of giving a value to a variable using the equals sign (=). This is fundamental to programming as it allows us to store and modify data throughout our program's execution. In real life, this is like updating information in a database - when a customer changes their address, the system assigns the new address to their record, replacing the old one.\n",
        "\n",
        "### Code Example:"
      ]
    },
    {
      "cell_type": "code",
      "execution_count": null,
      "metadata": {},
      "outputs": [],
      "source": [
        "# Initial assignment\n",
        "score = 100\n",
        "print(f\"Initial score: {score}\")\n",
        "\n",
        "# Reassignment\n",
        "score = 150\n",
        "print(f\"Updated score: {score}\")\n",
        "\n",
        "# Multiple assignment\n",
        "x, y, z = 10, 20, 30\n",
        "print(f\"x: {x}, y: {y}, z: {z}\")\n",
        "\n",
        "# Chained assignment\n",
        "a = b = c = 5\n",
        "print(f\"a: {a}, b: {b}, c: {c}\")"
      ]
    },
    {
      "cell_type": "markdown",
      "metadata": {},
      "source": [
        "### Challenge 3.1 (Easy)\n",
        "\n",
        "Create a variable called 'temperature' and assign it the value 72. Then reassign it to 68 and print both values."
      ]
    },
    {
      "cell_type": "code",
      "execution_count": null,
      "metadata": {},
      "outputs": [],
      "source": [
        "# Challenge 3.1 Solution Space:\n",
        "# Your code here"
      ]
    },
    {
      "cell_type": "markdown",
      "metadata": {},
      "source": [
        "### Challenge 3.2 (Medium)\n",
        "\n",
        "Use multiple assignment to create three variables (red, green, blue) representing RGB color values. Assign them values in a single line, then print each color value."
      ]
    },
    {
      "cell_type": "code",
      "execution_count": null,
      "metadata": {},
      "outputs": [],
      "source": [
        "# Challenge 3.2 Solution Space:\n",
        "# Your code here"
      ]
    },
    {
      "cell_type": "markdown",
      "metadata": {},
      "source": [
        "### Challenge 3.3 (Hard)\n",
        "\n",
        "Create a simple inventory system: start with 100 items, sell 25 items (subtract), receive 50 new items (add), then sell 30 more items. Print the inventory after each transaction."
      ]
    },
    {
      "cell_type": "code",
      "execution_count": null,
      "metadata": {},
      "outputs": [],
      "source": [
        "# Challenge 3.3 Solution Space:\n",
        "# Your code here"
      ]
    },
    {
      "cell_type": "markdown",
      "metadata": {},
      "source": [
        "---\n",
        "\n",
        "## Section 4: Relational Operators\n",
        "\n",
        "### Overview\n",
        "\n",
        "Relational operators compare two values and return True or False. These operators include == (equal), != (not equal), > (greater than), < (less than), >= (greater than or equal), and <= (less than or equal). In real life, these are used everywhere - from age verification systems checking if someone is >= 18, to e-commerce sites comparing prices, to fitness apps checking if you've reached your daily step goal.\n",
        "\n",
        "### Code Example:"
      ]
    },
    {
      "cell_type": "code",
      "execution_count": null,
      "metadata": {},
      "outputs": [],
      "source": [
        "a = 10\n",
        "b = 5\n",
        "c = 10\n",
        "\n",
        "print(f\"a = {a}, b = {b}, c = {c}\")\n",
        "print(f\"a == b: {a == b}\")  # Equal to\n",
        "print(f\"a != b: {a != b}\")  # Not equal to\n",
        "print(f\"a > b: {a > b}\")    # Greater than\n",
        "print(f\"a < b: {a < b}\")    # Less than\n",
        "print(f\"a >= c: {a >= c}\")  # Greater than or equal to\n",
        "print(f\"b <= c: {b <= c}\")  # Less than or equal to"
      ]
    },
    {
      "cell_type": "markdown",
      "metadata": {},
      "source": [
        "### Challenge 4.1 (Easy)\n",
        "\n",
        "Create two variables with your age and a friend's age. Use relational operators to check if you're older, the same age, or younger."
      ]
    },
    {
      "cell_type": "code",
      "execution_count": null,
      "metadata": {},
      "outputs": [],
      "source": [
        "# Challenge 4.1 Solution Space:\n",
        "# Your code here"
      ]
    },
    {
      "cell_type": "markdown",
      "metadata": {},
      "source": [
        "### Challenge 4.2 (Medium)\n",
        "\n",
        "Create a simple grade checker: define a variable for a test score (0-100) and use relational operators to check if it's a passing grade (>= 60), an A grade (>= 90), or a perfect score (== 100)."
      ]
    },
    {
      "cell_type": "code",
      "execution_count": null,
      "metadata": {},
      "outputs": [],
      "source": [
        "# Challenge 4.2 Solution Space:\n",
        "# Your code here"
      ]
    },
    {
      "cell_type": "markdown",
      "metadata": {},
      "source": [
        "### Challenge 4.3 (Hard)\n",
        "\n",
        "Create a simple login system: define correct username and password variables. Ask the user for their username and password, then use relational operators to check if both are correct."
      ]
    },
    {
      "cell_type": "code",
      "execution_count": null,
      "metadata": {},
      "outputs": [],
      "source": [
        "# Challenge 4.3 Solution Space:\n",
        "# Your code here"
      ]
    },
    {
      "cell_type": "markdown",
      "metadata": {},
      "source": [
        "---\n",
        "\n",
        "## Section 5: Increment and Decrement Numbers\n",
        "\n",
        "### Overview\n",
        "\n",
        "Increment and decrement operations increase or decrease a variable's value. Python uses += to add to a variable and -= to subtract from it. These operations are common in counting scenarios, updating scores, managing inventory, or tracking progress. In real life, think of a step counter on your phone (incrementing steps) or your bank account balance changing after transactions (increment for deposits, decrement for withdrawals).\n",
        "\n",
        "### Code Example:"
      ]
    },
    {
      "cell_type": "code",
      "execution_count": null,
      "metadata": {},
      "outputs": [],
      "source": [
        "counter = 0\n",
        "print(f\"Initial counter: {counter}\")\n",
        "\n",
        "# Increment\n",
        "counter += 1\n",
        "print(f\"After increment: {counter}\")\n",
        "\n",
        "counter += 5\n",
        "print(f\"After adding 5: {counter}\")\n",
        "\n",
        "# Decrement\n",
        "counter -= 2\n",
        "print(f\"After subtracting 2: {counter}\")\n",
        "\n",
        "# Other compound operators\n",
        "value = 10\n",
        "value *= 2  # Multiply and assign\n",
        "print(f\"After multiplying by 2: {value}\")\n",
        "\n",
        "value //= 4  # Integer division and assign\n",
        "print(f\"After integer division by 4: {value}\")"
      ]
    },
    {
      "cell_type": "markdown",
      "metadata": {},
      "source": [
        "### Challenge 5.1 (Easy)\n",
        "\n",
        "Create a variable called 'lives' with value 3. Decrease it by 1 three times, printing the value after each decrease."
      ]
    },
    {
      "cell_type": "code",
      "execution_count": null,
      "metadata": {},
      "outputs": [],
      "source": [
        "# Challenge 5.1 Solution Space:\n",
        "# Your code here"
      ]
    },
    {
      "cell_type": "markdown",
      "metadata": {},
      "source": [
        "### Challenge 5.2 (Medium)\n",
        "\n",
        "Create a simple point system: start with 0 points, add 50 points for completing a task, add 100 points for a bonus, then lose 25 points for a penalty. Print points after each change."
      ]
    },
    {
      "cell_type": "code",
      "execution_count": null,
      "metadata": {},
      "outputs": [],
      "source": [
        "# Challenge 5.2 Solution Space:\n",
        "# Your code here"
      ]
    },
    {
      "cell_type": "markdown",
      "metadata": {},
      "source": [
        "### Challenge 5.3 (Hard)\n",
        "\n",
        "Simulate a simple savings account: start with $1000, add $200 monthly for 3 months, then withdraw $150 for an emergency. Calculate and display the final balance and total interest if the account earns 2% on the final amount."
      ]
    },
    {
      "cell_type": "code",
      "execution_count": null,
      "metadata": {},
      "outputs": [],
      "source": [
        "# Challenge 5.3 Solution Space:\n",
        "# Your code here"
      ]
    },
    {
      "cell_type": "markdown",
      "metadata": {},
      "source": [
        "---\n",
        "\n",
        "## Section 6: Operator Precedence\n",
        "\n",
        "### Overview\n",
        "\n",
        "Operator precedence determines the order in which operations are performed in mathematical expressions. Python follows BODMAS/PEMDAS rules: Brackets/Parentheses, Orders/Exponents, Division/Multiplication (left to right), Addition/Subtraction (left to right). This is crucial in programming for calculating correct results, such as computing compound interest, tax calculations, or engineering formulas where the order of operations directly affects the outcome.\n",
        "\n",
        "### Code Example:"
      ]
    },
    {
      "cell_type": "code",
      "execution_count": null,
      "metadata": {},
      "outputs": [],
      "source": [
        "# Without parentheses\n",
        "result1 = 2 + 3 * 4\n",
        "print(f\"2 + 3 * 4 = {result1}\")  # 14 (not 20)\n",
        "\n",
        "# With parentheses\n",
        "result2 = (2 + 3) * 4\n",
        "print(f\"(2 + 3) * 4 = {result2}\")  # 20\n",
        "\n",
        "# Complex expression\n",
        "result3 = 2 ** 3 + 4 * 5 - 6 / 2\n",
        "print(f\"2 ** 3 + 4 * 5 - 6 / 2 = {result3}\")  # 8 + 20 - 3 = 25\n",
        "\n",
        "# Order demonstration\n",
        "a = 10\n",
        "b = 5\n",
        "c = 2\n",
        "complex_calc = a + b * c ** 2 - (a - b) / c\n",
        "print(f\"10 + 5 * 2 ** 2 - (10 - 5) / 2 = {complex_calc}\")"
      ]
    },
    {
      "cell_type": "markdown",
      "metadata": {},
      "source": [
        "### Challenge 6.1 (Easy)\n",
        "\n",
        "Calculate the result of: 5 + 3 * 2. Then modify it with parentheses to get a different result. Predict the answers before running the code."
      ]
    },
    {
      "cell_type": "code",
      "execution_count": null,
      "metadata": {},
      "outputs": [],
      "source": [
        "# Challenge 6.1 Solution Space:\n",
        "# Your code here"
      ]
    },
    {
      "cell_type": "markdown",
      "metadata": {},
      "source": [
        "### Challenge 6.2 (Medium)\n",
        "\n",
        "Calculate the area of a circle using the formula: area = π * r². Use r = 5 and π = 3.14159. Then calculate the area of a ring (outer circle - inner circle) with outer radius = 8 and inner radius = 5."
      ]
    },
    {
      "cell_type": "code",
      "execution_count": null,
      "metadata": {},
      "outputs": [],
      "source": [
        "# Challenge 6.2 Solution Space:\n",
        "# Your code here"
      ]
    },
    {
      "cell_type": "markdown",
      "metadata": {},
      "source": [
        "### Challenge 6.3 (Hard)\n",
        "\n",
        "Create a compound interest calculator using the formula: A = P(1 + r/n)^(nt) where:\n",
        "P = principal ($1000), r = annual rate (0.05), n = compounds per year (12), t = years (3).\n",
        "Use proper parentheses to ensure correct calculation order."
      ]
    },
    {
      "cell_type": "code",
      "execution_count": null,
      "metadata": {},
      "outputs": [],
      "source": [
        "# Challenge 6.3 Solution Space:\n",
        "# Your code here"
      ]
    },
    {
      "cell_type": "markdown",
      "metadata": {},
      "source": [
        "---\n",
        "\n",
        "## Section 7: Conversion of Data Types\n",
        "\n",
        "### Overview\n",
        "\n",
        "Type conversion (casting) changes one data type to another. Python has built-in functions like int(), float(), str(), and bool() for conversion. This is essential when working with user input (which comes as strings), performing calculations with different number types, or formatting output. In real life, this is like converting units (feet to meters), formats (text numbers to actual numbers for calculations), or user inputs into the format your program needs.\n",
        "\n",
        "### Code Example:"
      ]
    },
    {
      "cell_type": "code",
      "execution_count": null,
      "metadata": {},
      "outputs": [],
      "source": [
        "# String to number conversion\n",
        "age_str = \"25\"\n",
        "age_int = int(age_str)\n",
        "print(f\"String '{age_str}' converted to integer: {age_int}\")\n",
        "\n",
        "# Number to string conversion\n",
        "score = 95\n",
        "score_str = str(score)\n",
        "print(f\"Integer {score} converted to string: '{score_str}'\")\n",
        "\n",
        "# Float conversions\n",
        "price = \"19.99\"\n",
        "price_float = float(price)\n",
        "print(f\"String '{price}' converted to float: {price_float}\")\n",
        "\n",
        "# Boolean conversions\n",
        "print(f\"bool(''): {bool('')}\")  # Empty string is False\n",
        "print(f\"bool('hello'): {bool('hello')}\")  # Non-empty string is True\n",
        "print(f\"bool(0): {bool(0)}\")  # Zero is False\n",
        "print(f\"bool(42): {bool(42)}\")  # Non-zero is True"
      ]
    },
    {
      "cell_type": "markdown",
      "metadata": {},
      "source": [
        "### Challenge 7.1 (Easy)\n",
        "\n",
        "Ask the user for their age as input, convert it to an integer, and calculate their age in dog years (multiply by 7). Print the result."
      ]
    },
    {
      "cell_type": "code",
      "execution_count": null,
      "metadata": {},
      "outputs": [],
      "source": [
        "# Challenge 7.1 Solution Space:\n",
        "# Your code here"
      ]
    },
    {
      "cell_type": "markdown",
      "metadata": {},
      "source": [
        "### Challenge 7.2 (Medium)\n",
        "\n",
        "Create a simple calculator: ask the user for two numbers and an operation (+, -, *, /). Convert the input numbers to floats and perform the calculation. Handle the case where the user enters non-numeric input."
      ]
    },
    {
      "cell_type": "code",
      "execution_count": null,
      "metadata": {},
      "outputs": [],
      "source": [
        "# Challenge 7.2 Solution Space:\n",
        "# Your code here"
      ]
    },
    {
      "cell_type": "markdown",
      "metadata": {},
      "source": [
        "### Challenge 7.3 (Hard)\n",
        "\n",
        "Create a data validation system: ask the user for their name, age, and salary. Convert age and salary to appropriate types, validate that age is between 18-100 and salary is positive. Display appropriate error messages for invalid inputs."
      ]
    },
    {
      "cell_type": "code",
      "execution_count": null,
      "metadata": {},
      "outputs": [],
      "source": [
        "# Challenge 7.3 Solution Space:\n",
        "# Your code here"
      ]
    },
    {
      "cell_type": "markdown",
      "metadata": {},
      "source": [
        "---\n",
        "\n",
        "## 🎉 Notebook 1 Complete!\n",
        "\n",
        "You've completed the Python Basics notebook! You've learned about:\n",
        "\n",
        "- ✅ Hello World and basic output\n",
        "- ✅ Variables and data storage\n",
        "- ✅ Variable assignment techniques\n",
        "- ✅ Relational operators and comparisons\n",
        "- ✅ Increment and decrement operations\n",
        "- ✅ Operator precedence\n",
        "- ✅ Data type conversion\n",
        "\n",
        "### Next Steps:\n",
        "Continue to **Notebook 2: Conditional Operators** to learn about if statements, decision making, and program flow control.\n",
        "\n",
        "**Great job!** 🐍✨"
      ]
    }
  ],
  "metadata": {
    "kernelspec": {
      "display_name": "Python 3",
      "language": "python",
      "name": "python3"
    },
    "language_info": {
      "codemirror_mode": {
        "name": "ipython",
        "version": 3
      },
      "file_extension": ".py",
      "mimetype": "text/x-python",
      "name": "python",
      "nbconvert_exporter": "python",
      "pygments_lexer": "ipython3",
      "version": "3.8.5"
    }
  },
  "nbformat": 4,
  "nbformat_minor": 4
}
