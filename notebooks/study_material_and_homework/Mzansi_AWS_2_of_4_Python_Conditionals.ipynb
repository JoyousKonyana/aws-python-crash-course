{
  "cells": [
    {
      "cell_type": "markdown",
      "metadata": {},
      "source": [
        "# Python Conditional Operators - Notebook 2\n",
        "\n",
        "**Decision Making and Program Flow Control**\n",
        "\n",
        "This notebook covers conditional statements in Python, including if, if-else, if-elif, and nested conditionals that allow your programs to make decisions and respond to different scenarios.\n",
        "\n",
        "---"
      ]
    },
    {
      "cell_type": "markdown",
      "metadata": {},
      "source": [
        "## Section 8: If Statement\n",
        "\n",
        "### Overview\n",
        "\n",
        "The if statement allows your program to make decisions by executing code only when a condition is true. It's the foundation of program logic and control flow. In real life, if statements are like the decision-making process we use daily: \"If it's raining, take an umbrella,\" or \"If I have enough money, buy the item.\" In software, they control user access, validate inputs, trigger alerts, and determine program behavior based on different conditions.\n",
        "\n",
        "### Code Example:"
      ]
    },
    {
      "cell_type": "code",
      "execution_count": null,
      "metadata": {},
      "outputs": [],
      "source": [
        "temperature = 75\n",
        "\n",
        "if temperature > 80:\n",
        "    print(\"It's hot outside!\")\n",
        "\n",
        "if temperature < 60:\n",
        "    print(\"It's cold outside!\")\n",
        "    \n",
        "if temperature >= 60 and temperature <= 80:\n",
        "    print(\"The weather is pleasant!\")\n",
        "\n",
        "# Multiple conditions\n",
        "age = 20\n",
        "has_license = True\n",
        "\n",
        "if age >= 18:\n",
        "    print(\"You are an adult.\")\n",
        "    \n",
        "if age >= 18 and has_license:\n",
        "    print(\"You can drive legally.\")"
      ]
    },
    {
      "cell_type": "markdown",
      "metadata": {},
      "source": [
        "### Challenge 8.1 (Easy)\n",
        "\n",
        "Create a variable for a test score. Write an if statement that prints \"You passed!\" if the score is 60 or higher."
      ]
    },
    {
      "cell_type": "code",
      "execution_count": null,
      "metadata": {},
      "outputs": [],
      "source": [
        "# Challenge 8.1 Solution Space:\n",
        "# Your code here"
      ]
    },
    {
      "cell_type": "markdown",
      "metadata": {},
      "source": [
        "### Challenge 8.2 (Medium)\n",
        "\n",
        "Create a simple password strength checker: ask for a password and check if it's at least 8 characters long. If it is, print \"Strong password\", otherwise print nothing (just use if, not if-else)."
      ]
    },
    {
      "cell_type": "code",
      "execution_count": null,
      "metadata": {},
      "outputs": [],
      "source": [
        "# Challenge 8.2 Solution Space:\n",
        "# Your code here"
      ]
    },
    {
      "cell_type": "markdown",
      "metadata": {},
      "source": [
        "### Challenge 8.3 (Hard)\n",
        "\n",
        "Create a movie ticket pricing system: ask for the customer's age and whether it's a weekday. Use separate if statements to determine: child discount (under 12), senior discount (65+), and weekday discount. Start with a base price of $12 and apply $2 discount for each applicable condition."
      ]
    },
    {
      "cell_type": "code",
      "execution_count": null,
      "metadata": {},
      "outputs": [],
      "source": [
        "# Challenge 8.3 Solution Space:\n",
        "# Your code here"
      ]
    },
    {
      "cell_type": "markdown",
      "metadata": {},
      "source": [
        "---\n",
        "\n",
        "## Section 9: If Else\n",
        "\n",
        "### Overview\n",
        "\n",
        "The if-else statement provides an alternative path when the if condition is false. It ensures that one of two code blocks will always execute, making programs more complete and user-friendly. In real life, this is like having a backup plan: \"If the store is open, go shopping; otherwise, order online.\" In software applications, if-else statements handle user authentication (login success/failure), form validation (valid/invalid input), and feature availability (premium/free user features).\n",
        "\n",
        "### Code Example:"
      ]
    },
    {
      "cell_type": "code",
      "execution_count": null,
      "metadata": {},
      "outputs": [],
      "source": [
        "age = 17\n",
        "\n",
        "if age >= 18:\n",
        "    print(\"You can vote!\")\n",
        "else:\n",
        "    print(\"You cannot vote yet.\")\n",
        "\n",
        "# Numeric comparison\n",
        "number = 42\n",
        "\n",
        "if number > 0:\n",
        "    print(\"The number is positive.\")\n",
        "else:\n",
        "    print(\"The number is zero or negative.\")"
      ]
    },
    {
      "cell_type": "markdown",
      "metadata": {},
      "source": [
        "### Challenge 9.1 (Easy)\n",
        "\n",
        "Ask the user for their age. If they're 18 or older, print \"You're an adult.\" Otherwise, print \"You're a minor.\""
      ]
    },
    {
      "cell_type": "code",
      "execution_count": null,
      "metadata": {},
      "outputs": [],
      "source": [
        "# Challenge 9.1 Solution Space:\n",
        "# Your code here"
      ]
    },
    {
      "cell_type": "markdown",
      "metadata": {},
      "source": [
        "### Challenge 9.2 (Medium)\n",
        "\n",
        "Create a simple even/odd checker: ask the user for a number and determine if it's even or odd. Print the appropriate message. (Hint: use the modulo operator %)"
      ]
    },
    {
      "cell_type": "code",
      "execution_count": null,
      "metadata": {},
      "outputs": [],
      "source": [
        "# Challenge 9.2 Solution Space:\n",
        "# Your code here"
      ]
    },
    {
      "cell_type": "markdown",
      "metadata": {},
      "source": [
        "### Challenge 9.3 (Hard)\n",
        "\n",
        "Create a simple login system: define a correct username and password. Ask the user for both. If both are correct, print \"Login successful!\" Otherwise, print \"Invalid credentials.\" Also track and display the number of login attempts."
      ]
    },
    {
      "cell_type": "code",
      "execution_count": null,
      "metadata": {},
      "outputs": [],
      "source": [
        "# Challenge 9.3 Solution Space:\n",
        "# Your code here"
      ]
    },
    {
      "cell_type": "markdown",
      "metadata": {},
      "source": [
        "---\n",
        "\n",
        "## Section 10: If Elif\n",
        "\n",
        "### Overview\n",
        "\n",
        "The if-elif-else statement allows you to check multiple conditions in sequence, executing only the first true condition's code block. This is perfect for handling multiple distinct scenarios. In real life, this is like a restaurant menu pricing system: \"If appetizer, charge $8; elif main course, charge $15; elif dessert, charge $6; else invalid item.\" In software, elif statements handle multi-tier systems like user roles (admin/moderator/user), grade classifications (A/B/C/D/F), or shipping options (express/standard/economy).\n",
        "\n",
        "### Code Example:"
      ]
    },
    {
      "cell_type": "code",
      "execution_count": null,
      "metadata": {},
      "outputs": [],
      "source": [
        "score = 85\n",
        "\n",
        "if score >= 90:\n",
        "    grade = \"A\"\n",
        "elif score >= 80:\n",
        "    grade = \"B\"\n",
        "elif score >= 70:\n",
        "    grade = \"C\"\n",
        "elif score >= 60:\n",
        "    grade = \"D\"\n",
        "else:\n",
        "    grade = \"F\"\n",
        "\n",
        "print(f\"Score: {score}, Grade: {grade}\")\n",
        "\n",
        "# Weather example\n",
        "temperature = 25\n",
        "\n",
        "if temperature > 30:\n",
        "    print(\"It's very hot!\")\n",
        "elif temperature > 20:\n",
        "    print(\"It's warm.\")\n",
        "elif temperature > 10:\n",
        "    print(\"It's cool.\")\n",
        "elif temperature > 0:\n",
        "    print(\"It's cold.\")\n",
        "else:\n",
        "    print(\"It's freezing!\")"
      ]
    },
    {
      "cell_type": "markdown",
      "metadata": {},
      "source": [
        "### Challenge 10.1 (Easy)\n",
        "\n",
        "Ask the user for their age and categorize them: Child (0-12), Teen (13-19), Adult (20-64), or Senior (65+). Print the appropriate category."
      ]
    },
    {
      "cell_type": "code",
      "execution_count": null,
      "metadata": {},
      "outputs": [],
      "source": [
        "# Challenge 10.1 Solution Space:\n",
        "# Your code here"
      ]
    },
    {
      "cell_type": "markdown",
      "metadata": {},
      "source": [
        "### Challenge 10.2 (Medium)\n",
        "\n",
        "Create a simple calculator that asks for two numbers and an operation (+, -, *, /). Use if-elif-else to perform the correct operation and print the result."
      ]
    },
    {
      "cell_type": "code",
      "execution_count": null,
      "metadata": {},
      "outputs": [],
      "source": [
        "# Challenge 10.2 Solution Space:\n",
        "# Your code here"
      ]
    },
    {
      "cell_type": "markdown",
      "metadata": {},
      "source": [
        "### Challenge 10.3 (Hard)\n",
        "\n",
        "Create a comprehensive grade system that also considers extra credit: Ask for the base score (0-100) and extra credit points (0-10). Calculate final score, then assign grades: A+ (97+), A (93-96), A- (90-92), B+ (87-89), B (83-86), B- (80-82), C+ (77-79), C (73-76), C- (70-72), D (60-69), F (below 60)."
      ]
    },
    {
      "cell_type": "code",
      "execution_count": null,
      "metadata": {},
      "outputs": [],
      "source": [
        "# Challenge 10.3 Solution Space:\n",
        "# Your code here"
      ]
    },
    {
      "cell_type": "markdown",
      "metadata": {},
      "source": [
        "---\n",
        "\n",
        "## Section 11: If Nested\n",
        "\n",
        "### Overview\n",
        "\n",
        "Nested if statements are if statements inside other if statements, allowing for complex decision trees. They enable checking multiple levels of conditions, where inner conditions only matter if outer conditions are true. In real life, this is like insurance claim processing: \"If you have insurance, then if the damage exceeds your deductible, then if you have comprehensive coverage, approve the claim.\" In software, nested ifs handle complex user permissions, multi-step validation processes, and hierarchical decision making.\n",
        "\n",
        "### Code Example:"
      ]
    },
    {
      "cell_type": "code",
      "execution_count": null,
      "metadata": {},
      "outputs": [],
      "source": [
        "age = 25\n",
        "has_license = True\n",
        "has_car = True\n",
        "\n",
        "if age >= 18:\n",
        "    print(\"You are old enough to drive.\")\n",
        "    if has_license:\n",
        "        print(\"You have a license.\")\n",
        "        if has_car:\n",
        "            print(\"You can drive your own car!\")\n",
        "        else:\n",
        "            print(\"You need to borrow or rent a car.\")\n",
        "    else:\n",
        "        print(\"You need to get a license first.\")\n",
        "else:\n",
        "    print(\"You are too young to drive.\")\n",
        "\n",
        "# Weather and activity planning\n",
        "weather = \"sunny\"\n",
        "temperature = 75\n",
        "\n",
        "if weather == \"sunny\":\n",
        "    if temperature > 70:\n",
        "        print(\"Perfect for outdoor activities!\")\n",
        "        if temperature > 85:\n",
        "            print(\"Don't forget sunscreen and water!\")\n",
        "    else:\n",
        "        print(\"Sunny but a bit cool for outdoor activities.\")\n",
        "else:\n",
        "    print(\"Check the weather before going out.\")"
      ]
    },
    {
      "cell_type": "markdown",
      "metadata": {},
      "source": [
        "### Challenge 11.1 (Easy)\n",
        "\n",
        "Create a simple movie rating system: ask for the user's age and the movie rating (G, PG, PG-13, R). Use nested if statements to determine if they can watch the movie."
      ]
    },
    {
      "cell_type": "code",
      "execution_count": null,
      "metadata": {},
      "outputs": [],
      "source": [
        "# Challenge 11.1 Solution Space:\n",
        "# Your code here"
      ]
    },
    {
      "cell_type": "markdown",
      "metadata": {},
      "source": [
        "### Challenge 11.2 (Medium)\n",
        "\n",
        "Create a student scholarship eligibility checker: ask for GPA (0-4.0) and family income. If GPA >= 3.5, check income: if income < 50000, full scholarship; if income < 80000, partial scholarship; otherwise, no financial aid but academic recognition."
      ]
    },
    {
      "cell_type": "code",
      "execution_count": null,
      "metadata": {},
      "outputs": [],
      "source": [
        "# Challenge 11.2 Solution Space:\n",
        "# Your code here"
      ]
    },
    {
      "cell_type": "markdown",
      "metadata": {},
      "source": [
        "### Challenge 11.3 (Hard)\n",
        "\n",
        "Create a comprehensive job application system: ask for age, education level (high school, bachelor's, master's), years of experience, and desired salary. Use nested conditions to determine: eligibility (age 18-65), position level (entry/mid/senior based on education and experience), and salary approval (based on position level and market rates)."
      ]
    },
    {
      "cell_type": "code",
      "execution_count": null,
      "metadata": {},
      "outputs": [],
      "source": [
        "# Challenge 11.3 Solution Space:\n",
        "# Your code here"
      ]
    },
    {
      "cell_type": "markdown",
      "metadata": {},
      "source": [
        "---\n",
        "\n",
        "## 🎉 Notebook 2 Complete!\n",
        "\n",
        "You've completed the Conditional Operators notebook! You've learned about:\n",
        "\n",
        "- ✅ If statements for basic decision making\n",
        "- ✅ If-else statements for binary choices\n",
        "- ✅ If-elif statements for multiple conditions\n",
        "- ✅ Nested if statements for complex decision trees\n",
        "\n",
        "### Next Steps:\n",
        "Continue to **Notebook 3: Loops** to learn about repetition, iteration, and automated processing.\n",
        "\n",
        "**Great progress!** 🐍✨"
      ]
    }
  ],
  "metadata": {
    "kernelspec": {
      "display_name": "Python 3",
      "language": "python",
      "name": "python3"
    },
    "language_info": {
      "codemirror_mode": {
        "name": "ipython",
        "version": 3
      },
      "file_extension": ".py",
      "mimetype": "text/x-python",
      "name": "python",
      "nbconvert_exporter": "python",
      "pygments_lexer": "ipython3",
      "version": "3.8.5"
    }
  },
  "nbformat": 4,
  "nbformat_minor": 4
}
