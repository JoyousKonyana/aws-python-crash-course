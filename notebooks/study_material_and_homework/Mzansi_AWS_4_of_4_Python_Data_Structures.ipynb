{
  "cells": [
    {
      "cell_type": "markdown",
      "metadata": {},
      "source": [
        "# Python Data Structures - Notebook 4\n",
        "\n",
        "**Lists, Dictionaries, and Data Organization**\n",
        "\n",
        "This notebook covers the fundamental data structures in Python, including dictionaries for key-value storage, lists for ordered collections, and techniques for iterating through and manipulating these data structures.\n",
        "\n",
        "---"
      ]
    },
    {
      "cell_type": "markdown",
      "metadata": {},
      "source": [
        "## Section 16: Dictionary\n",
        "\n",
        "### Overview\n",
        "\n",
        "Dictionaries are collections of key-value pairs that allow you to store and retrieve data using meaningful keys instead of numeric indices. They're like real-world dictionaries where you look up a word (key) to find its definition (value), or like a phone book where you search by name to find a phone number. In software development, dictionaries are used for configuration settings, user profiles, database records, caching systems, and any scenario where you need to associate related pieces of information together.\n",
        "\n",
        "### Code Example:"
      ]
    },
    {
      "cell_type": "code",
      "execution_count": null,
      "metadata": {},
      "outputs": [],
      "source": [
        "# Creating dictionaries\n",
        "student = {\n",
        "    \"name\": \"Alice\",\n",
        "    \"age\": 20,\n",
        "    \"grade\": \"A\",\n",
        "    \"courses\": [\"Math\", \"Science\", \"History\"]\n",
        "}\n",
        "\n",
        "# Accessing values\n",
        "print(f\"Student name: {student['name']}\")\n",
        "print(f\"Student age: {student['age']}\")\n",
        "\n",
        "# Adding new key-value pairs\n",
        "student[\"email\"] = \"alice@email.com\"\n",
        "student[\"gpa\"] = 3.8\n",
        "\n",
        "# Modifying existing values\n",
        "student[\"age\"] = 21\n",
        "\n",
        "# Dictionary methods\n",
        "print(f\"All keys: {list(student.keys())}\")\n",
        "print(f\"All values: {list(student.values())}\")\n",
        "print(f\"All items: {list(student.items())}\")\n",
        "\n",
        "# Safe access with get()\n",
        "phone = student.get(\"phone\", \"Not provided\")\n",
        "print(f\"Phone: {phone}\")\n",
        "\n",
        "# Checking if key exists\n",
        "if \"email\" in student:\n",
        "    print(f\"Email: {student['email']}\")\n",
        "\n",
        "# Practical example - inventory system\n",
        "inventory = {\n",
        "    \"apples\": 50,\n",
        "    \"bananas\": 30,\n",
        "    \"oranges\": 25,\n",
        "    \"grapes\": 15\n",
        "}\n",
        "\n",
        "print(\"\\nInventory System:\")\n",
        "for item, quantity in inventory.items():\n",
        "    print(f\"{item}: {quantity} units\")"
      ]
    },
    {
      "cell_type": "markdown",
      "metadata": {},
      "source": [
        "### Challenge 16.1 (Easy)\n",
        "\n",
        "Create a dictionary representing yourself with keys: name, age, favorite_color, and hobby. Print each piece of information in a formatted way."
      ]
    },
    {
      "cell_type": "code",
      "execution_count": null,
      "metadata": {},
      "outputs": [],
      "source": [
        "# Challenge 16.1 Solution Space:\n",
        "# Your code here"
      ]
    },
    {
      "cell_type": "markdown",
      "metadata": {},
      "source": [
        "### Challenge 16.2 (Medium)\n",
        "\n",
        "Create a simple phone book: make a dictionary with 5 contacts (name as key, phone number as value). Ask the user to search for a contact and display their number, or show \"Contact not found\" if it doesn't exist."
      ]
    },
    {
      "cell_type": "code",
      "execution_count": null,
      "metadata": {},
      "outputs": [],
      "source": [
        "# Challenge 16.2 Solution Space:\n",
        "# Your code here"
      ]
    },
    {
      "cell_type": "markdown",
      "metadata": {},
      "source": [
        "### Challenge 16.3 (Hard)\n",
        "\n",
        "Create a student grade management system: make a dictionary where keys are student names and values are lists of their test scores. Add functions to: add a new student, add a grade to existing student, calculate average grade for a student, and find the student with the highest average."
      ]
    },
    {
      "cell_type": "code",
      "execution_count": null,
      "metadata": {},
      "outputs": [],
      "source": [
        "# Challenge 16.3 Solution Space:\n",
        "# Your code here"
      ]
    },
    {
      "cell_type": "markdown",
      "metadata": {},
      "source": [
        "---\n",
        "\n",
        "## Section 17: List\n",
        "\n",
        "### Overview\n",
        "\n",
        "Lists are ordered collections of items that can store multiple values in a single variable. They're mutable (can be changed) and can contain different data types. Lists are like shopping lists, to-do lists, or any collection where order matters and you might need to add, remove, or modify items. In software development, lists are fundamental for storing user data, managing collections of objects, implementing queues and stacks, handling dynamic data sets, and organizing information that needs to be processed sequentially.\n",
        "\n",
        "### Code Example:"
      ]
    },
    {
      "cell_type": "code",
      "execution_count": null,
      "metadata": {},
      "outputs": [],
      "source": [
        "# Creating lists\n",
        "fruits = [\"apple\", \"banana\", \"orange\", \"grape\"]\n",
        "numbers = [1, 2, 3, 4, 5]\n",
        "mixed = [\"hello\", 42, 3.14, True]\n",
        "\n",
        "print(f\"Fruits: {fruits}\")\n",
        "print(f\"Numbers: {numbers}\")\n",
        "print(f\"Mixed: {mixed}\")\n",
        "\n",
        "# Accessing elements\n",
        "print(f\"First fruit: {fruits[0]}\")\n",
        "print(f\"Last fruit: {fruits[-1]}\")\n",
        "print(f\"Second and third fruits: {fruits[1:3]}\")\n",
        "\n",
        "# Modifying lists\n",
        "fruits.append(\"mango\")  # Add to end\n",
        "fruits.insert(1, \"strawberry\")  # Insert at position\n",
        "fruits.remove(\"banana\")  # Remove specific item\n",
        "last_fruit = fruits.pop()  # Remove and return last item\n",
        "\n",
        "print(f\"Modified fruits: {fruits}\")\n",
        "print(f\"Removed fruit: {last_fruit}\")\n",
        "\n",
        "# List methods and properties\n",
        "print(f\"Length: {len(fruits)}\")\n",
        "print(f\"Count of 'apple': {fruits.count('apple')}\")\n",
        "print(f\"Index of 'orange': {fruits.index('orange')}\")\n",
        "\n",
        "# Sorting\n",
        "numbers_copy = numbers.copy()\n",
        "numbers_copy.sort(reverse=True)\n",
        "print(f\"Sorted numbers (descending): {numbers_copy}\")\n",
        "\n",
        "# List comprehension (bonus)\n",
        "squares = [x**2 for x in range(1, 6)]\n",
        "print(f\"Squares: {squares}\")"
      ]
    },
    {
      "cell_type": "markdown",
      "metadata": {},
      "source": [
        "### Challenge 17.1 (Easy)\n",
        "\n",
        "Create a list of your favorite movies. Add two more movies to the list, remove one movie, and print the final list with the total count."
      ]
    },
    {
      "cell_type": "code",
      "execution_count": null,
      "metadata": {},
      "outputs": [],
      "source": [
        "# Challenge 17.1 Solution Space:\n",
        "# Your code here"
      ]
    },
    {
      "cell_type": "markdown",
      "metadata": {},
      "source": [
        "### Challenge 17.2 (Medium)\n",
        "\n",
        "Create a to-do list manager: start with an empty list, let the user add tasks, mark tasks as complete (remove them), and display the current tasks. Use a simple menu system."
      ]
    },
    {
      "cell_type": "code",
      "execution_count": null,
      "metadata": {},
      "outputs": [],
      "source": [
        "# Challenge 17.2 Solution Space:\n",
        "# Your code here"
      ]
    },
    {
      "cell_type": "markdown",
      "metadata": {},
      "source": [
        "### Challenge 17.3 (Hard)\n",
        "\n",
        "Create a simple inventory management system using lists: maintain separate lists for item names, quantities, and prices (same index corresponds to same item). Implement functions to add items, update quantities, calculate total inventory value, and find the most expensive item."
      ]
    },
    {
      "cell_type": "code",
      "execution_count": null,
      "metadata": {},
      "outputs": [],
      "source": [
        "# Challenge 17.3 Solution Space:\n",
        "# Your code here"
      ]
    },
    {
      "cell_type": "markdown",
      "metadata": {},
      "source": [
        "---\n",
        "\n",
        "## Section 18: List Iteration\n",
        "\n",
        "### Overview\n",
        "\n",
        "List iteration is the process of going through each element in a list to perform operations or extract information. There are multiple ways to iterate through lists: using for loops, while loops, or with built-in functions like enumerate() and zip(). This is essential for data processing, searching, filtering, and transforming list contents. In real life, this is like going through each item in your shopping cart to calculate the total, checking each answer on a test, or reviewing each applicant for a job. In software, list iteration powers data analysis, user interface updates, batch processing, and algorithm implementation.\n",
        "\n",
        "### Code Example:"
      ]
    },
    {
      "cell_type": "code",
      "execution_count": null,
      "metadata": {},
      "outputs": [],
      "source": [
        "# Basic iteration\n",
        "numbers = [10, 20, 30, 40, 50]\n",
        "print(\"Basic iteration:\")\n",
        "for num in numbers:\n",
        "    print(f\"Number: {num}\")\n",
        "\n",
        "# Iteration with index\n",
        "print(\"\\nIteration with index:\")\n",
        "for i, num in enumerate(numbers):\n",
        "    print(f\"Index {i}: {num}\")\n",
        "\n",
        "# Iteration with range and len\n",
        "print(\"\\nIteration using range:\")\n",
        "for i in range(len(numbers)):\n",
        "    print(f\"Position {i}: {numbers[i]}\")\n",
        "\n",
        "# Processing during iteration\n",
        "print(\"\\nProcessing during iteration:\")\n",
        "total = 0\n",
        "for num in numbers:\n",
        "    total += num\n",
        "    print(f\"Running total: {total}\")\n",
        "\n",
        "# Filtering during iteration\n",
        "print(\"\\nFiltering (numbers > 25):\")\n",
        "large_numbers = []\n",
        "for num in numbers:\n",
        "    if num > 25:\n",
        "        large_numbers.append(num)\n",
        "        print(f\"Added {num} to large numbers\")\n",
        "\n",
        "print(f\"Large numbers: {large_numbers}\")\n",
        "\n",
        "# Parallel iteration with zip\n",
        "names = [\"Alice\", \"Bob\", \"Charlie\"]\n",
        "ages = [25, 30, 35]\n",
        "cities = [\"New York\", \"London\", \"Tokyo\"]\n",
        "\n",
        "print(\"\\nParallel iteration:\")\n",
        "for name, age, city in zip(names, ages, cities):\n",
        "    print(f\"{name} is {age} years old and lives in {city}\")\n",
        "\n",
        "# List comprehension (advanced iteration)\n",
        "doubled = [x * 2 for x in numbers]\n",
        "print(f\"\\nDoubled numbers: {doubled}\")"
      ]
    },
    {
      "cell_type": "markdown",
      "metadata": {},
      "source": [
        "### Challenge 18.1 (Easy)\n",
        "\n",
        "Create a list of temperatures in Fahrenheit. Iterate through the list and convert each temperature to Celsius, printing both the original and converted values."
      ]
    },
    {
      "cell_type": "code",
      "execution_count": null,
      "metadata": {},
      "outputs": [],
      "source": [
        "# Challenge 18.1 Solution Space:\n",
        "# Your code here\n",
        "# Hint: Celsius = (Fahrenheit - 32) * 5/9"
      ]
    },
    {
      "cell_type": "markdown",
      "metadata": {},
      "source": [
        "### Challenge 18.2 (Medium)\n",
        "\n",
        "Create two lists: one with product names and another with their prices. Iterate through both lists simultaneously to create a shopping receipt. Calculate and display the total cost and apply a 10% discount if the total is over $100."
      ]
    },
    {
      "cell_type": "code",
      "execution_count": null,
      "metadata": {},
      "outputs": [],
      "source": [
        "# Challenge 18.2 Solution Space:\n",
        "# Your code here"
      ]
    },
    {
      "cell_type": "markdown",
      "metadata": {},
      "source": [
        "### Challenge 18.3 (Hard)\n",
        "\n",
        "Create a gradebook system: make a list of student names and a 2D list of their test scores (each student has multiple test scores). Iterate through the data to calculate each student's average, determine their letter grade, identify the highest-scoring student, and create a class summary report."
      ]
    },
    {
      "cell_type": "code",
      "execution_count": null,
      "metadata": {},
      "outputs": [],
      "source": [
        "# Challenge 18.3 Solution Space:\n",
        "# Your code here"
      ]
    },
    {
      "cell_type": "markdown",
      "metadata": {},
      "source": [
        "---\n",
        "\n",
        "## 🎉 Congratulations! Python Fundamentals Complete!\n",
        "\n",
        "You've completed all four Python Fundamentals notebooks! You've mastered:\n",
        "\n",
        "### Notebook 1: Basics\n",
        "- ✅ Hello World and basic output\n",
        "- ✅ Variables and data storage\n",
        "- ✅ Variable assignment and operators\n",
        "- ✅ Data type conversion\n",
        "\n",
        "### Notebook 2: Conditional Operators\n",
        "- ✅ If statements for decision making\n",
        "- ✅ If-else and if-elif statements\n",
        "- ✅ Nested conditionals\n",
        "\n",
        "### Notebook 3: Loops\n",
        "- ✅ For loops and iteration\n",
        "- ✅ While loops and condition-based repetition\n",
        "- ✅ Nested loops for complex operations\n",
        "\n",
        "### Notebook 4: Data Structures\n",
        "- ✅ Dictionaries for key-value storage\n",
        "- ✅ Lists for ordered collections\n",
        "- ✅ List iteration and data processing\n",
        "\n",
        "### Final Project Ideas:\n",
        "\n",
        "Now that you've completed all the fundamentals, here are some comprehensive projects that combine concepts from all four notebooks:\n",
        "\n",
        "1. **Personal Budget Tracker**: Use dictionaries to store expense categories, lists to store transactions, loops to calculate totals, and conditional statements to provide spending insights.\n",
        "\n",
        "2. **Simple Text-Based Game**: Create a story-driven game using variables for player stats, if-elif statements for choices, while loops for game flow, and lists for inventory.\n",
        "\n",
        "3. **Student Management System**: Use dictionaries for student records, lists for courses, nested loops for grade processing, and conditionals for grade classification.\n",
        "\n",
        "4. **Weather Data Analyzer**: Use lists to store temperature data, loops to process the data, conditional statements to categorize weather, and mathematical operations to calculate averages.\n",
        "\n",
        "5. **Simple E-commerce System**: Create a shopping cart using lists, product catalog using dictionaries, price calculations with arithmetic operators, and user interaction with input validation.\n",
        "\n",
        "### Remember:\n",
        "The best way to solidify your learning is through practice. Choose a project that interests you and start building! Don't be afraid to experiment and make mistakes - that's how you learn.\n",
        "\n",
        "**Congratulations on completing Python Fundamentals!** 🐍🎓✨\n",
        "\n",
        "You're now ready to explore more advanced Python topics like functions, classes, file handling, and external libraries. Keep coding and keep learning!"
      ]
    }
  ],
  "metadata": {
    "kernelspec": {
      "display_name": "Python 3",
      "language": "python",
      "name": "python3"
    },
    "language_info": {
      "codemirror_mode": {
        "name": "ipython",
        "version": 3
      },
      "file_extension": ".py",
      "mimetype": "text/x-python",
      "name": "python",
      "nbconvert_exporter": "python",
      "pygments_lexer": "ipython3",
      "version": "3.8.5"
    }
  },
  "nbformat": 4,
  "nbformat_minor": 4
}
