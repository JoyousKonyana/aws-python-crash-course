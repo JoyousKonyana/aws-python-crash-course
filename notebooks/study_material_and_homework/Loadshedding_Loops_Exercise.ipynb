{
 "cells": [
  {
   "cell_type": "markdown",
   "id": "10cc8187",
   "metadata": {},
   "source": [
    "\n",
    "# 🔋 Load Shedding Data Exploration with Python Loops\n",
    "\n",
    "In this notebook, we explore a dataset containing load shedding information for South African cities using **for loops** and **while loops**.\n",
    "\n",
    "We'll answer questions using iteration and control flow logic.\n"
   ]
  },
  {
   "cell_type": "markdown",
   "id": "ba9f85ee",
   "metadata": {},
   "source": [
    "\n",
    "## 📥 Load the Data\n"
   ]
  },
  {
   "cell_type": "code",
   "execution_count": 4,
   "id": "ec9b2ee3",
   "metadata": {},
   "outputs": [
    {
     "data": {
      "text/html": [
       "<div>\n",
       "<style scoped>\n",
       "    .dataframe tbody tr th:only-of-type {\n",
       "        vertical-align: middle;\n",
       "    }\n",
       "\n",
       "    .dataframe tbody tr th {\n",
       "        vertical-align: top;\n",
       "    }\n",
       "\n",
       "    .dataframe thead th {\n",
       "        text-align: right;\n",
       "    }\n",
       "</style>\n",
       "<table border=\"1\" class=\"dataframe\">\n",
       "  <thead>\n",
       "    <tr style=\"text-align: right;\">\n",
       "      <th></th>\n",
       "      <th>City</th>\n",
       "      <th>Stage</th>\n",
       "      <th>Hours_Off_Per_Day</th>\n",
       "      <th>Population</th>\n",
       "    </tr>\n",
       "  </thead>\n",
       "  <tbody>\n",
       "    <tr>\n",
       "      <th>0</th>\n",
       "      <td>Cape Town</td>\n",
       "      <td>2</td>\n",
       "      <td>4</td>\n",
       "      <td>433688</td>\n",
       "    </tr>\n",
       "    <tr>\n",
       "      <th>1</th>\n",
       "      <td>Joburg</td>\n",
       "      <td>3</td>\n",
       "      <td>6</td>\n",
       "      <td>957441</td>\n",
       "    </tr>\n",
       "    <tr>\n",
       "      <th>2</th>\n",
       "      <td>Durban</td>\n",
       "      <td>1</td>\n",
       "      <td>2</td>\n",
       "      <td>595061</td>\n",
       "    </tr>\n",
       "    <tr>\n",
       "      <th>3</th>\n",
       "      <td>Pretoria</td>\n",
       "      <td>4</td>\n",
       "      <td>8</td>\n",
       "      <td>741651</td>\n",
       "    </tr>\n",
       "    <tr>\n",
       "      <th>4</th>\n",
       "      <td>Bloemfontein</td>\n",
       "      <td>2</td>\n",
       "      <td>3</td>\n",
       "      <td>256185</td>\n",
       "    </tr>\n",
       "  </tbody>\n",
       "</table>\n",
       "</div>"
      ],
      "text/plain": [
       "           City  Stage  Hours_Off_Per_Day  Population\n",
       "0     Cape Town      2                  4      433688\n",
       "1        Joburg      3                  6      957441\n",
       "2        Durban      1                  2      595061\n",
       "3      Pretoria      4                  8      741651\n",
       "4  Bloemfontein      2                  3      256185"
      ]
     },
     "execution_count": 4,
     "metadata": {},
     "output_type": "execute_result"
    }
   ],
   "source": [
    "\n",
    "import pandas as pd\n",
    "\n",
    "# Load CSV\n",
    "df = pd.read_csv(\"../../data/loadshedding_data.csv\")\n",
    "df\n"
   ]
  },
  {
   "cell_type": "markdown",
   "id": "72d591bb",
   "metadata": {},
   "source": [
    "\n",
    "## ❓ Q1: Print the total hours off per day for each city using a `for` loop.\n"
   ]
  },
  {
   "cell_type": "code",
   "execution_count": 5,
   "id": "62e6ab93",
   "metadata": {},
   "outputs": [
    {
     "name": "stdout",
     "output_type": "stream",
     "text": [
      "Cape Town has 4 hours of power outage per day.\n",
      "Joburg has 6 hours of power outage per day.\n",
      "Durban has 2 hours of power outage per day.\n",
      "Pretoria has 8 hours of power outage per day.\n",
      "Bloemfontein has 3 hours of power outage per day.\n"
     ]
    }
   ],
   "source": [
    "\n",
    "for i in range(len(df)):\n",
    "    city = df.loc[i, \"City\"]\n",
    "    hours = df.loc[i, \"Hours_Off_Per_Day\"]\n",
    "    print(f\"{city} has {hours} hours of power outage per day.\")\n"
   ]
  },
  {
   "cell_type": "markdown",
   "id": "c9be0e41",
   "metadata": {},
   "source": [
    "\n",
    "## ❓ Q2: Use a `while` loop to print cities with Stage >= 3.\n"
   ]
  },
  {
   "cell_type": "code",
   "execution_count": 6,
   "id": "e13e7b8e",
   "metadata": {},
   "outputs": [
    {
     "name": "stdout",
     "output_type": "stream",
     "text": [
      "Joburg is in Stage 3\n",
      "Pretoria is in Stage 4\n"
     ]
    }
   ],
   "source": [
    "\n",
    "i = 0\n",
    "while i < len(df):\n",
    "    if df.loc[i, \"Stage\"] >= 3:\n",
    "        print(f\"{df.loc[i, 'City']} is in Stage {df.loc[i, 'Stage']}\")\n",
    "    i += 1\n"
   ]
  },
  {
   "cell_type": "markdown",
   "id": "d2eebae4",
   "metadata": {},
   "source": [
    "\n",
    "## ❓ Q3: Calculate economic loss per city using a `for` loop\n",
    "\n",
    "Assume each stage costs **R50 per person per day**.\n"
   ]
  },
  {
   "cell_type": "code",
   "execution_count": 7,
   "id": "8b3165ba",
   "metadata": {},
   "outputs": [
    {
     "name": "stdout",
     "output_type": "stream",
     "text": [
      "Estimated economic loss in Cape Town: R43,368,800\n",
      "Estimated economic loss in Joburg: R143,616,150\n",
      "Estimated economic loss in Durban: R29,753,050\n",
      "Estimated economic loss in Pretoria: R148,330,200\n",
      "Estimated economic loss in Bloemfontein: R25,618,500\n"
     ]
    }
   ],
   "source": [
    "\n",
    "for i in range(len(df)):\n",
    "    stage = df.loc[i, \"Stage\"]\n",
    "    population = df.loc[i, \"Population\"]\n",
    "    city = df.loc[i, \"City\"]\n",
    "    cost = stage * 50 * population\n",
    "    print(f\"Estimated economic loss in {city}: R{cost:,}\")\n"
   ]
  },
  {
   "cell_type": "markdown",
   "id": "08113ce4",
   "metadata": {},
   "source": [
    "\n",
    "## ❓ Q4: Use a `while` loop to find the city with the highest stage.\n"
   ]
  },
  {
   "cell_type": "code",
   "execution_count": 8,
   "id": "2678e392",
   "metadata": {},
   "outputs": [
    {
     "name": "stdout",
     "output_type": "stream",
     "text": [
      "The city with the highest load shedding stage is Pretoria (Stage 4)\n"
     ]
    }
   ],
   "source": [
    "\n",
    "i = 0\n",
    "max_stage = -1\n",
    "max_city = \"\"\n",
    "\n",
    "while i < len(df):\n",
    "    if df.loc[i, \"Stage\"] > max_stage:\n",
    "        max_stage = df.loc[i, \"Stage\"]\n",
    "        max_city = df.loc[i, \"City\"]\n",
    "    i += 1\n",
    "\n",
    "print(f\"The city with the highest load shedding stage is {max_city} (Stage {max_stage})\")\n"
   ]
  },
  {
   "cell_type": "markdown",
   "id": "64c76494",
   "metadata": {},
   "source": [
    "## ❓ Q5: Calculate average hours off per city for Stage >= 2\n"
   ]
  },
  {
   "cell_type": "code",
   "execution_count": 9,
   "id": "9a84a826",
   "metadata": {},
   "outputs": [
    {
     "name": "stdout",
     "output_type": "stream",
     "text": [
      "Average hours off (Stage >= 2): 5.25\n"
     ]
    }
   ],
   "source": [
    "total_hours = 0\n",
    "count = 0\n",
    "\n",
    "for i in range(len(df)):\n",
    "    if df.loc[i, \"Stage\"] >= 2:\n",
    "        total_hours += df.loc[i, \"Hours_Off_Per_Day\"]\n",
    "        count += 1\n",
    "\n",
    "if count > 0:\n",
    "    print(\"Average hours off (Stage >= 2):\", total_hours / count)"
   ]
  },
  {
   "cell_type": "markdown",
   "id": "84a746aa",
   "metadata": {},
   "source": [
    "## ❓ Q6: Count how many cities are in each stage"
   ]
  },
  {
   "cell_type": "code",
   "execution_count": 10,
   "id": "da353745",
   "metadata": {},
   "outputs": [
    {
     "name": "stdout",
     "output_type": "stream",
     "text": [
      "City count per stage: {np.int64(2): 2, np.int64(3): 1, np.int64(1): 1, np.int64(4): 1}\n"
     ]
    }
   ],
   "source": [
    "stage_counts = {}\n",
    "\n",
    "for i in range(len(df)):\n",
    "    stage = df.loc[i, \"Stage\"]\n",
    "    stage_counts[stage] = stage_counts.get(stage, 0) + 1\n",
    "\n",
    "print(\"City count per stage:\", stage_counts)"
   ]
  }
 ],
 "metadata": {
  "kernelspec": {
   "display_name": ".venv",
   "language": "python",
   "name": "python3"
  },
  "language_info": {
   "codemirror_mode": {
    "name": "ipython",
    "version": 3
   },
   "file_extension": ".py",
   "mimetype": "text/x-python",
   "name": "python",
   "nbconvert_exporter": "python",
   "pygments_lexer": "ipython3",
   "version": "3.13.2"
  }
 },
 "nbformat": 4,
 "nbformat_minor": 5
}
