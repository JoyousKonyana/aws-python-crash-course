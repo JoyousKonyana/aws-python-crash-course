{
  "cells": [
    {
      "cell_type": "markdown",
      "metadata": {},
      "source": [
        "# Python Loops - Notebook 3\n",
        "\n",
        "**Repetition, Iteration, and Automated Processing**\n",
        "\n",
        "This notebook covers loop structures in Python, including for loops, while loops, and nested loops that allow your programs to repeat actions efficiently and process collections of data.\n",
        "\n",
        "---"
      ]
    },
    {
      "cell_type": "markdown",
      "metadata": {},
      "source": [
        "## Section 12: For Each Loop\n",
        "\n",
        "### Overview\n",
        "\n",
        "For each loops (also called for-in loops) iterate through each item in a collection like lists, strings, or tuples. They automatically handle the iteration process, making code cleaner and less error-prone. In real life, this is like going through each item in your shopping list, checking each student's attendance, or processing each order in a restaurant queue. In software, for-each loops are used for processing user data, validating form inputs, sending notifications to multiple users, or updating database records.\n",
        "\n",
        "### Code Example:"
      ]
    },
    {
      "cell_type": "code",
      "execution_count": null,
      "metadata": {},
      "outputs": [],
      "source": [
        "# Iterating through a list\n",
        "fruits = [\"apple\", \"banana\", \"orange\", \"grape\"]\n",
        "print(\"Fruits in the basket:\")\n",
        "for fruit in fruits:\n",
        "    print(f\"- {fruit}\")\n",
        "\n",
        "# Iterating through a string\n",
        "word = \"Python\"\n",
        "print(f\"\\nLetters in '{word}':\")\n",
        "for letter in word:\n",
        "    print(letter)\n",
        "\n",
        "# Iterating with enumeration (index and value)\n",
        "colors = [\"red\", \"green\", \"blue\"]\n",
        "print(\"\\nColors with their positions:\")\n",
        "for index, color in enumerate(colors):\n",
        "    print(f\"{index + 1}. {color}\")\n",
        "\n",
        "# Processing data\n",
        "temperatures = [72, 68, 75, 71, 69]\n",
        "total = 0\n",
        "for temp in temperatures:\n",
        "    total += temp\n",
        "average = total / len(temperatures)\n",
        "print(f\"\\nAverage temperature: {average}°F\")"
      ]
    },
    {
      "cell_type": "markdown",
      "metadata": {},
      "source": [
        "### Challenge 12.1 (Easy)\n",
        "\n",
        "Create a list of your favorite foods. Use a for loop to print each food with the message \"I like [food]\"."
      ]
    },
    {
      "cell_type": "code",
      "execution_count": null,
      "metadata": {},
      "outputs": [],
      "source": [
        "# Challenge 12.1 Solution Space:\n",
        "# Your code here"
      ]
    },
    {
      "cell_type": "markdown",
      "metadata": {},
      "source": [
        "### Challenge 12.2 (Medium)\n",
        "\n",
        "Create a list of numbers and use a for loop to find and print only the even numbers. Also calculate and print the sum of all even numbers."
      ]
    },
    {
      "cell_type": "code",
      "execution_count": null,
      "metadata": {},
      "outputs": [],
      "source": [
        "# Challenge 12.2 Solution Space:\n",
        "# Your code here"
      ]
    },
    {
      "cell_type": "markdown",
      "metadata": {},
      "source": [
        "### Challenge 12.3 (Hard)\n",
        "\n",
        "Create a simple grade book: make a list of student names and another list of their test scores. Use for loops to pair each student with their score, determine their letter grade, and create a class report showing each student's performance and the class average."
      ]
    },
    {
      "cell_type": "code",
      "execution_count": null,
      "metadata": {},
      "outputs": [],
      "source": [
        "# Challenge 12.3 Solution Space:\n",
        "# Your code here"
      ]
    },
    {
      "cell_type": "markdown",
      "metadata": {},
      "source": [
        "---\n",
        "\n",
        "## Section 13: For Range Loop\n",
        "\n",
        "### Overview\n",
        "\n",
        "For range loops use the range() function to iterate a specific number of times or through a sequence of numbers. Range can take one, two, or three parameters: range(stop), range(start, stop), or range(start, stop, step). This is essential for counting, creating sequences, or repeating actions a specific number of times. In real life, this is like doing 10 push-ups, printing 100 invoices, or checking inventory for items numbered 1 through 50. In software, range loops handle batch processing, generating reports, creating test data, or implementing countdowns.\n",
        "\n",
        "### Code Example:"
      ]
    },
    {
      "cell_type": "code",
      "execution_count": null,
      "metadata": {},
      "outputs": [],
      "source": [
        "# Basic range (0 to n-1)\n",
        "print(\"Counting from 0 to 4:\")\n",
        "for i in range(5):\n",
        "    print(i)\n",
        "\n",
        "# Range with start and stop\n",
        "print(\"\\nCounting from 1 to 5:\")\n",
        "for i in range(1, 6):\n",
        "    print(i)\n",
        "\n",
        "# Range with step\n",
        "print(\"\\nEven numbers from 0 to 10:\")\n",
        "for i in range(0, 11, 2):\n",
        "    print(i)\n",
        "\n",
        "# Countdown\n",
        "print(\"\\nCountdown:\")\n",
        "for i in range(5, 0, -1):\n",
        "    print(i)\n",
        "print(\"Blast off!\")\n",
        "\n",
        "# Practical example - multiplication table\n",
        "number = 7\n",
        "print(f\"\\nMultiplication table for {number}:\")\n",
        "for i in range(1, 11):\n",
        "    result = number * i\n",
        "    print(f\"{number} x {i} = {result}\")"
      ]
    },
    {
      "cell_type": "markdown",
      "metadata": {},
      "source": [
        "### Challenge 13.1 (Easy)\n",
        "\n",
        "Use a for range loop to print numbers from 1 to 10, each on a new line."
      ]
    },
    {
      "cell_type": "code",
      "execution_count": null,
      "metadata": {},
      "outputs": [],
      "source": [
        "# Challenge 13.1 Solution Space:\n",
        "# Your code here"
      ]
    },
    {
      "cell_type": "markdown",
      "metadata": {},
      "source": [
        "### Challenge 13.2 (Medium)\n",
        "\n",
        "Create a program that calculates and prints the factorial of a number (e.g., 5! = 5 × 4 × 3 × 2 × 1). Ask the user for a number and use a for range loop to calculate its factorial."
      ]
    },
    {
      "cell_type": "code",
      "execution_count": null,
      "metadata": {},
      "outputs": [],
      "source": [
        "# Challenge 13.2 Solution Space:\n",
        "# Your code here"
      ]
    },
    {
      "cell_type": "markdown",
      "metadata": {},
      "source": [
        "### Challenge 13.3 (Hard)\n",
        "\n",
        "Create a pattern printing program: ask the user for a number and print a triangle pattern. For example, if they enter 5, print:\n",
        "```\n",
        "*\n",
        "**\n",
        "***\n",
        "****\n",
        "*****\n",
        "```\n",
        "Then create another pattern that prints a number triangle."
      ]
    },
    {
      "cell_type": "code",
      "execution_count": null,
      "metadata": {},
      "outputs": [],
      "source": [
        "# Challenge 13.3 Solution Space:\n",
        "# Your code here"
      ]
    },
    {
      "cell_type": "markdown",
      "metadata": {},
      "source": [
        "---\n",
        "\n",
        "## Section 14: Nested For Loops\n",
        "\n",
        "### Overview\n",
        "\n",
        "Nested for loops are loops inside other loops, creating a two-dimensional iteration pattern. The inner loop completes all its iterations for each iteration of the outer loop. This is essential for working with 2D data structures, creating patterns, or performing operations that require multiple levels of iteration. In real life, this is like checking every seat in every row of a theater, or examining every item on every shelf in a store. In software, nested loops handle matrix operations, image processing, game board management, and generating complex reports or patterns.\n",
        "\n",
        "### Code Example:"
      ]
    },
    {
      "cell_type": "code",
      "execution_count": null,
      "metadata": {},
      "outputs": [],
      "source": [
        "# Basic nested loop\n",
        "print(\"Multiplication table:\")\n",
        "for i in range(1, 4):\n",
        "    for j in range(1, 4):\n",
        "        product = i * j\n",
        "        print(f\"{i} x {j} = {product}\")\n",
        "    print()  # Empty line between tables\n",
        "\n",
        "# Creating a grid pattern\n",
        "print(\"Grid pattern:\")\n",
        "for row in range(3):\n",
        "    for col in range(5):\n",
        "        print(\"*\", end=\" \")\n",
        "    print()  # New line after each row\n",
        "\n",
        "# Working with 2D list (list of lists)\n",
        "matrix = [\n",
        "    [1, 2, 3],\n",
        "    [4, 5, 6],\n",
        "    [7, 8, 9]\n",
        "]\n",
        "\n",
        "print(\"\\nMatrix elements:\")\n",
        "for row in matrix:\n",
        "    for element in row:\n",
        "        print(element, end=\" \")\n",
        "    print()\n",
        "\n",
        "# Finding coordinates\n",
        "print(\"\\nCoordinates:\")\n",
        "for x in range(3):\n",
        "    for y in range(3):\n",
        "        print(f\"({x}, {y})\", end=\" \")\n",
        "    print()"
      ]
    },
    {
      "cell_type": "markdown",
      "metadata": {},
      "source": [
        "### Challenge 14.1 (Easy)\n",
        "\n",
        "Use nested for loops to create a 4x4 grid of numbers where each position shows its row and column (e.g., \"1,1\", \"1,2\", etc.)."
      ]
    },
    {
      "cell_type": "code",
      "execution_count": null,
      "metadata": {},
      "outputs": [],
      "source": [
        "# Challenge 14.1 Solution Space:\n",
        "# Your code here"
      ]
    },
    {
      "cell_type": "markdown",
      "metadata": {},
      "source": [
        "### Challenge 14.2 (Medium)\n",
        "\n",
        "Create a simple times table: use nested loops to generate and print a multiplication table from 1x1 to 5x5 in a formatted grid layout."
      ]
    },
    {
      "cell_type": "code",
      "execution_count": null,
      "metadata": {},
      "outputs": [],
      "source": [
        "# Challenge 14.2 Solution Space:\n",
        "# Your code here"
      ]
    },
    {
      "cell_type": "markdown",
      "metadata": {},
      "source": [
        "### Challenge 14.3 (Hard)\n",
        "\n",
        "Create a simple 2D game board: ask the user for board size (e.g., 5x5), then create a board filled with random numbers 1-9. Print the board in a grid format, then ask the user for coordinates and display what's at that position."
      ]
    },
    {
      "cell_type": "code",
      "execution_count": null,
      "metadata": {},
      "outputs": [],
      "source": [
        "# Challenge 14.3 Solution Space:\n",
        "# Your code here\n",
        "import random\n",
        "# Hint: use random.randint(1, 9) to generate random numbers"
      ]
    },
    {
      "cell_type": "markdown",
      "metadata": {},
      "source": [
        "---\n",
        "\n",
        "## Section 15: While Loop\n",
        "\n",
        "### Overview\n",
        "\n",
        "While loops continue executing as long as a condition remains true. Unlike for loops that iterate a predetermined number of times, while loops run until a specific condition is met, making them perfect for situations where you don't know exactly how many iterations you'll need. In real life, this is like \"keep knocking until someone answers,\" \"keep studying until you understand,\" or \"keep adding sugar until the coffee tastes right.\" In software, while loops handle user input validation, game loops, data processing until completion, and monitoring systems.\n",
        "\n",
        "### Code Example:"
      ]
    },
    {
      "cell_type": "code",
      "execution_count": null,
      "metadata": {},
      "outputs": [],
      "source": [
        "# Basic while loop\n",
        "count = 1\n",
        "print(\"Counting with while loop:\")\n",
        "while count <= 5:\n",
        "    print(f\"Count: {count}\")\n",
        "    count += 1\n",
        "\n",
        "# User input validation example\n",
        "print(\"\\nInput validation:\")\n",
        "valid_input = False\n",
        "while not valid_input:\n",
        "    user_choice = input(\"Enter 'yes' or 'no': \").lower()\n",
        "    if user_choice in ['yes', 'no']:\n",
        "        valid_input = True\n",
        "        print(f\"You entered: {user_choice}\")\n",
        "    else:\n",
        "        print(\"Please enter 'yes' or 'no' only.\")\n",
        "\n",
        "# Processing with unknown iterations\n",
        "print(\"\\nSum until zero:\")\n",
        "total = 0\n",
        "number = 1  # Initialize with non-zero value\n",
        "\n",
        "while number != 0:\n",
        "    number = int(input(\"Enter a number (0 to stop): \"))\n",
        "    if number != 0:\n",
        "        total += number\n",
        "\n",
        "print(f\"Total sum: {total}\")"
      ]
    },
    {
      "cell_type": "markdown",
      "metadata": {},
      "source": [
        "### Challenge 15.1 (Easy)\n",
        "\n",
        "Create a simple countdown timer: ask the user for a number and use a while loop to count down from that number to 1, printing each number."
      ]
    },
    {
      "cell_type": "code",
      "execution_count": null,
      "metadata": {},
      "outputs": [],
      "source": [
        "# Challenge 15.1 Solution Space:\n",
        "# Your code here"
      ]
    },
    {
      "cell_type": "markdown",
      "metadata": {},
      "source": [
        "### Challenge 15.2 (Medium)\n",
        "\n",
        "Create a number guessing game: generate a random number between 1 and 100, then use a while loop to let the user guess until they get it right. Tell them if each guess is too high or too low."
      ]
    },
    {
      "cell_type": "code",
      "execution_count": null,
      "metadata": {},
      "outputs": [],
      "source": [
        "# Challenge 15.2 Solution Space:\n",
        "# Your code here\n",
        "import random\n",
        "# Hint: use random.randint(1, 100) to generate a random number"
      ]
    },
    {
      "cell_type": "markdown",
      "metadata": {},
      "source": [
        "### Challenge 15.3 (Hard)\n",
        "\n",
        "Create a simple ATM simulator: start with a balance of $1000. Use a while loop to present a menu of options (check balance, deposit, withdraw, exit). Process the user's choice and update the balance accordingly. Continue until they choose to exit."
      ]
    },
    {
      "cell_type": "code",
      "execution_count": null,
      "metadata": {},
      "outputs": [],
      "source": [
        "# Challenge 15.3 Solution Space:\n",
        "# Your code here"
      ]
    },
    {
      "cell_type": "markdown",
      "metadata": {},
      "source": [
        "---\n",
        "\n",
        "## Section 16: Loop Control\n",
        "\n",
        "### Overview\n",
        "\n",
        "Loop control statements like break, continue, and else allow you to modify the flow of loops. Break exits the loop completely, continue skips to the next iteration, and else executes when the loop completes normally (without a break). These tools give you precise control over loop execution. In real life, this is like stopping a search once you find what you need, skipping certain items in a process, or confirming completion of a task. In software, loop control handles early termination, error conditions, search algorithms, and process optimization.\n",
        "\n",
        "### Code Example:"
      ]
    },
    {
      "cell_type": "code",
      "execution_count": null,
      "metadata": {},
      "outputs": [],
      "source": [
        "# Break example - exit loop early\n",
        "print(\"Break example:\")\n",
        "for i in range(1, 10):\n",
        "    if i == 5:\n",
        "        print(\"Found 5! Breaking loop.\")\n",
        "        break\n",
        "    print(f\"Number: {i}\")\n",
        "print(\"Loop ended.\")\n",
        "\n",
        "# Continue example - skip current iteration\n",
        "print(\"\\nContinue example:\")\n",
        "for i in range(1, 6):\n",
        "    if i == 3:\n",
        "        print(\"Skipping 3...\")\n",
        "        continue\n",
        "    print(f\"Number: {i}\")\n",
        "\n",
        "# Else example - execute when loop completes normally\n",
        "print(\"\\nElse with normal completion:\")\n",
        "for i in range(1, 4):\n",
        "    print(f\"Number: {i}\")\n",
        "else:\n",
        "    print(\"Loop completed successfully!\")\n",
        "\n",
        "# Else with break - else doesn't execute\n",
        "print(\"\\nElse with break:\")\n",
        "for i in range(1, 6):\n",
        "    print(f\"Number: {i}\")\n",
        "    if i == 3:\n",
        "        print(\"Breaking loop at 3\")\n",
        "        break\n",
        "else:\n",
        "    print(\"This won't print because of the break\")"
      ]
    },
    {
      "cell_type": "markdown",
      "metadata": {},
      "source": [
        "### Challenge 16.1 (Easy)\n",
        "\n",
        "Create a program that searches for a specific number in a list. Use a for loop with break to find the number and print its position. If the number isn't found, use else to print a message."
      ]
    },
    {
      "cell_type": "code",
      "execution_count": null,
      "metadata": {},
      "outputs": [],
      "source": [
        "# Challenge 16.1 Solution Space:\n",
        "# Your code here"
      ]
    },
    {
      "cell_type": "markdown",
      "metadata": {},
      "source": [
        "### Challenge 16.2 (Medium)\n",
        "\n",
        "Create a program that prints all prime numbers between 1 and 50. Use a nested loop with break to efficiently check if each number is prime."
      ]
    },
    {
      "cell_type": "code",
      "execution_count": null,
      "metadata": {},
      "outputs": [],
      "source": [
        "# Challenge 16.2 Solution Space:\n",
        "# Your code here"
      ]
    },
    {
      "cell_type": "markdown",
      "metadata": {},
      "source": [
        "### Challenge 16.3 (Hard)\n",
        "\n",
        "Create a simple text-based menu system for a todo list. Use while True with break for the main loop. Include options to add tasks, view tasks, mark tasks as complete (using continue to skip them when viewing), and exit the program."
      ]
    },
    {
      "cell_type": "code",
      "execution_count": null,
      "metadata": {},
      "outputs": [],
      "source": [
        "# Challenge 16.3 Solution Space:\n",
        "# Your code here"
      ]
    },
    {
      "cell_type": "markdown",
      "metadata": {},
      "source": [
        "---\n",
        "\n",
        "## 🎉 Notebook 3 Complete!\n",
        "\n",
        "You've completed the Loops notebook! You've learned about:\n",
        "\n",
        "- ✅ For each loops for iterating through collections\n",
        "- ✅ For range loops for numeric sequences\n",
        "- ✅ Nested for loops for multi-dimensional data\n",
        "- ✅ While loops for condition-based iteration\n",
        "- ✅ Loop control with break, continue, and else\n",
        "\n",
        "### Next Steps:\n",
        "Continue to **Notebook 4: Functions** to learn about code organization, reusability, and modular programming.\n",
        "\n",
        "**Excellent progress!** 🐍✨"
      ]
    }
  ],
  "metadata": {
    "kernelspec": {
      "display_name": "Python 3",
      "language": "python",
      "name": "python3"
    },
    "language_info": {
      "codemirror_mode": {
        "name": "ipython",
        "version": 3
      },
      "file_extension": ".py",
      "mimetype": "text/x-python",
      "name": "python",
      "nbconvert_exporter": "python",
      "pygments_lexer": "ipython3",
      "version": "3.8.5"
    }
  },
  "nbformat": 4,
  "nbformat_minor": 4
}
