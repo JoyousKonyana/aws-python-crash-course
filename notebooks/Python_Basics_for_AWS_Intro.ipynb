{
 "cells": [
  {
   "cell_type": "markdown",
   "id": "57396bae",
   "metadata": {},
   "source": [
    "\n",
    "# 🔹 1. Introduction: Why Python?\n",
    "\n",
    "Python is the most popular language in data engineering because it's readable, powerful, and used across AWS services like Lambda, Glue, and SageMaker.\n",
    "\n",
    "**Key points to mention:**\n",
    "- Easy to learn and write (compared to Java/C++)\n",
    "- Massive ecosystem (pandas, boto3, etc.)\n",
    "- Official AWS SDKs in Python (like boto3)\n",
    "- Python is used in Lambda, Glue, and even cloud notebooks\n"
   ]
  },
  {
   "cell_type": "markdown",
   "id": "50dcf157",
   "metadata": {},
   "source": [
    "\n",
    "# 🔹 2. Python Basics: Variables, Types, and Printing\n",
    "\n",
    "Let's start with simple variable assignment and printing.\n"
   ]
  },
  {
   "cell_type": "code",
   "execution_count": null,
   "id": "70419f3a",
   "metadata": {},
   "outputs": [],
   "source": [
    "\n",
    "# Variable assignment\n",
    "name = \"Cape Town\" // String, str\n",
    "stage = 2\n",
    "is_power_on = True\n",
    "temp = 19.5\n",
    "\n",
    "#operators\n",
    "+\n",
    "\n",
    "# Print with formatting\n",
    "print(f\"{name} - Load Shedding Stage: {stage}\")\n",
    "print(\"Temperature:\", temp)\n"
   ]
  },
  {
   "cell_type": "markdown",
   "id": "3c543914",
   "metadata": {},
   "source": [
    "\n",
    "Python is dynamically typed, which means you don't have to declare types explicitly.\n",
    "\n",
    "**Basic types:**\n",
    "- `str`: String (text)\n",
    "- `int`: Integer (whole number)\n",
    "- `float`: Decimal number\n",
    "- `bool`: Boolean (True/False)\n"
   ]
  },
  {
   "cell_type": "markdown",
   "id": "4fd6c971",
   "metadata": {},
   "source": [
    "\n",
    "# 🔹 3. Python Basics: Data structures\n",
    "\n",
    "**Why data Structures?**\n",
    "\n",
    "Data structures help organize and store collections of data.\n",
    "\n",
    "They let you group related data and perform operations efficiently.\n",
    "\n",
    "Different structures suit different purposes.\n",
    "\n",
    "\n",
    "**List (ordered, mutable collections)**\n",
    "\n",
    "- Store multiple items (can be mixed types).\n",
    "- Access by index.\n",
    "- Can be changed (add/remove items).\n",
    "\n",
    "\n",
    "**Example**\n",
    "\n",
    "fruits = [\"apple\", \"banana\", \"cherry\"]\n",
    "print(fruits[1])  # banana\n",
    "\n",
    "**Traversing a list:**\n",
    "for fruit in fruits:\n",
    "    print(fruit)\n",
    "\n",
    "**Tuples (ordered, immutable collections)**\n",
    "- Like lists but cannot be changed.\n",
    "- Good for fixed collections.\n",
    "\n",
    "coordinates = (10, 20)\n",
    "print(coordinates[0])  # 10\n",
    "\n",
    "**Traversing a Tuple:**\n",
    "for i in coordinates:\n",
    "    print(i);\n",
    "\n",
    " **Dictionaries (key-value pairs)**\n",
    " - Store data as pairs: key -> value\n",
    " - Fast lookup by key.\n",
    " - Useful for mapping data.\n"
   ]
  },
  {
   "cell_type": "markdown",
   "id": "2bfe592f",
   "metadata": {},
   "source": [
    "\n",
    "# 🔹 3. Lists & Loops\n",
    "\n",
    "Lists are ordered collections. You can loop through them easily using `for` loops.\n"
   ]
  },
  {
   "cell_type": "code",
   "execution_count": null,
   "id": "53e88f13",
   "metadata": {},
   "outputs": [],
   "source": [
    "\n",
    "# A list of cities\n",
    "cities = [\"Cape Town\", \"Joburg\", \"Durban\"]\n",
    "\n",
    "# Loop through the list\n",
    "for city in cities:\n",
    "    print(f\"🔋 Checking power for {city}\")\n"
   ]
  },
  {
   "cell_type": "code",
   "execution_count": null,
   "id": "957cfab2",
   "metadata": {},
   "outputs": [],
   "source": [
    "\n",
    "# Loop with index\n",
    "for i in range(len(cities)):\n",
    "    print(f\"{i + 1}. {cities[i]}\")\n"
   ]
  },
  {
   "cell_type": "markdown",
   "id": "2b29bebd",
   "metadata": {},
   "source": [
    "\n",
    "- `range(n)` creates a sequence from 0 to n-1.\n",
    "- `for` loops iterate directly over items or via index.\n"
   ]
  },
  {
   "cell_type": "markdown",
   "id": "12e638a2",
   "metadata": {},
   "source": [
    "\n",
    "# 🔹 4. Dictionaries: Like a Mini Database\n",
    "\n",
    "Dictionaries store data as key-value pairs.\n"
   ]
  },
  {
   "cell_type": "code",
   "execution_count": null,
   "id": "843b9021",
   "metadata": {},
   "outputs": [],
   "source": [
    "\n",
    "city_data = {\n",
    "    \"name\": \"Joburg\",\n",
    "    \"stage\": 2,\n",
    "    \"hours_off\": 4,\n",
    "    \"province\": \"Gauteng\"\n",
    "}\n",
    "\n",
    "# Access values\n",
    "print(city_data[\"name\"])\n",
    "print(city_data[\"hours_off\"])\n",
    "\n",
    "# Add new key\n",
    "city_data[\"load_date\"] = \"2025-06-18\"\n",
    "print(city_data)\n"
   ]
  },
  {
   "cell_type": "markdown",
   "id": "4ce4695e",
   "metadata": {},
   "source": [
    "\n",
    "This structure is similar to JSON or a row in a CSV file.\n"
   ]
  },
  {
   "cell_type": "markdown",
   "id": "b553207c",
   "metadata": {},
   "source": [
    "\n",
    "# 🔹 5. Functions: Reusable Logic\n",
    "\n",
    "Functions allow you to encapsulate logic and reuse it.\n"
   ]
  },
  {
   "cell_type": "code",
   "execution_count": null,
   "id": "b36edf9a",
   "metadata": {},
   "outputs": [],
   "source": [
    "\n",
    "def economic_impact(stage, population):\n",
    "    cost = stage * 100\n",
    "    return population * cost\n",
    "\n",
    "impact = economic_impact(2, 1_000_000)\n",
    "print(f\"Estimated loss: R{impact}\")\n"
   ]
  },
  {
   "cell_type": "markdown",
   "id": "787a620a",
   "metadata": {},
   "source": [
    "\n",
    "**Explanation:**\n",
    "- Define a function with `def`\n",
    "- Use parameters and return a value\n",
    "- Real-world example: estimate economic loss from load shedding\n"
   ]
  },
  {
   "cell_type": "markdown",
   "id": "f4937133",
   "metadata": {},
   "source": [
    "\n",
    "# 🔹 6. Mini Exercise\n",
    "\n",
    "**Task**: Create a list of 3 cities with stages, loop through them and print the expected economic loss if stage is 2.\n"
   ]
  },
  {
   "cell_type": "code",
   "execution_count": null,
   "id": "e35dea75",
   "metadata": {},
   "outputs": [],
   "source": [
    "\n",
    "cities = [\n",
    "    {\"name\": \"Cape Town\", \"stage\": 2},\n",
    "    {\"name\": \"Durban\", \"stage\": 1},\n",
    "    {\"name\": \"Pretoria\", \"stage\": 3},\n",
    "]\n",
    "\n",
    "for city in cities:\n",
    "    loss = city[\"stage\"] * 1_000_000\n",
    "    print(f\"{city['name']}: R{loss} loss\")\n"
   ]
  },
  {
   "cell_type": "markdown",
   "id": "c56a5044",
   "metadata": {},
   "source": [
    "\n",
    "# 🔹 7. Preview: Where This Fits with AWS\n",
    "\n",
    "These Python basics enable you to interact with AWS.\n",
    "\n",
    "You can:\n",
    "- Upload data to **S3** using `boto3`\n",
    "- Write results to **CSV** with `csv` or `pandas`\n",
    "- Use **dictionaries** inside AWS **Lambda functions**\n",
    "\n",
    "```python\n",
    "# Example: Using boto3 to upload to S3\n",
    "import boto3\n",
    "\n",
    "s3 = boto3.client(\"s3\")\n",
    "s3.upload_file(\"local_file.csv\", \"my-bucket\", \"uploads/file.csv\")\n",
    "```\n",
    "\n",
    "This opens the door to automating infrastructure, processing data, and running cloud-native applications.\n"
   ]
  },
  {
   "cell_type": "markdown",
   "id": "680cc132",
   "metadata": {},
   "source": [
    "## ❓ Beginner-Friendly Questions to Explore\n",
    "\n",
    "We’ll answer the following questions:\n",
    "\n",
    "1. What is the structure of the dataset (rows and columns)?\n",
    "2. What are the column names?\n",
    "3. Are there any missing values in the dataset?\n",
    "4. What is the data type of each column?\n",
    "5. What is the date range covered in the dataset?\n",
    "6. What is the average residual demand?\n",
    "7. What are the maximum and minimum values of residual demand?\n",
    "8. How does residual demand vary over time (line plot)?\n",
    "9. What is the average international export and import?\n",
    "10. What is the total electricity generated over time?\n",
    "11. What is the trend in thermal vs nuclear generation?\n",
    "12. What is the correlation between residual demand and dispatchable generation?\n",
    "13. Which hour of the day has the highest average residual demand?\n",
    "14. What is the installed renewable capacity over time?\n",
    "15. How does load shedding vary over the months or years?\n",
    "16. Can we identify any patterns in total UCLF (Unplanned Capacity Loss Factor)?\n",
    "17. What is the average non-commercial sent-out?\n",
    "18. How much variation is there in the Drakensberg generation unit hours?\n",
    "19. Compare Palmiet and Ingula generation hours over time.\n",
    "20. Which variables are most highly correlated?"
   ]
  }
 ],
 "metadata": {
  "language_info": {
   "name": "python"
  }
 },
 "nbformat": 4,
 "nbformat_minor": 5
}
